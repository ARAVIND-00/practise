{
 "cells": [
  {
   "cell_type": "code",
   "execution_count": null,
   "id": "f39753b9",
   "metadata": {},
   "outputs": [
    {
     "name": "stdout",
     "output_type": "stream",
     "text": [
      "l 2321617762496 copulist 2321638937984\n",
      "5\n"
     ]
    }
   ],
   "source": [
    "l=[5,4,3,1,10]\n",
    "copy_list=l.copy()\n",
    "mx=l[0]\n",
    "\n",
    "second_max=copy_list[0]\n",
    "for i in l:\n",
    "    if i>mx:\n",
    "        mx=i\n",
    "        \n",
    "        copy_list.remove(mx)\n",
    "        for j in copy_list:\n",
    "            if j >second_max:\n",
    "                second_max=j\n",
    "            \n",
    "        \n",
    "print('l',l,'copulist',copy_list)           \n",
    "print(second_max)"
   ]
  },
  {
   "cell_type": "code",
   "execution_count": null,
   "id": "01d8faea",
   "metadata": {},
   "outputs": [
    {
     "name": "stdout",
     "output_type": "stream",
     "text": [
      "second_max 5\n"
     ]
    },
    {
     "data": {
      "text/plain": [
       "[5, 4, 3, 1, 10, 5, 4, 3, 1, 10]"
      ]
     },
     "execution_count": 11,
     "metadata": {},
     "output_type": "execute_result"
    }
   ],
   "source": [
    "l=[5,4,3,1,10]\n",
    "\n",
    "sorted_values=sorted(set(l),reverse=True)\n",
    "\n",
    "if len(sorted_values) > 2:\n",
    "    print('second_max',sorted_values[1])\n",
    "else:\n",
    "    'no less than 2'\n",
    "    \n"
   ]
  },
  {
   "cell_type": "code",
   "execution_count": 29,
   "id": "cdfa13ae",
   "metadata": {},
   "outputs": [
    {
     "name": "stdout",
     "output_type": "stream",
     "text": [
      "[{'name': 'Bob', 'score': 91}, {'name': 'Alice', 'score': 85}, {'name': 'Eve', 'score': 78}]\n"
     ]
    }
   ],
   "source": [
    "a = [\n",
    "    {\"name\": \"Alice\", \"score\": 85},\n",
    "    {\"name\": \"Bob\", \"score\": 91},\n",
    "    {\"name\": \"Eve\", \"score\": 78}\n",
    "]\n",
    "\n",
    "\n",
    "sorted_dict=sorted(a,key= lambda x:x['score'],reverse=True)\n",
    "print(sorted_dict)"
   ]
  },
  {
   "cell_type": "code",
   "execution_count": 2,
   "id": "53d38a0c",
   "metadata": {},
   "outputs": [
    {
     "data": {
      "text/plain": [
       "[25, 16, 9, 1, 100]"
      ]
     },
     "execution_count": 2,
     "metadata": {},
     "output_type": "execute_result"
    }
   ],
   "source": [
    "l=[5,4,3,1,10]\n",
    "\n",
    "s=lambda x : [i**2 for i in x]\n",
    "\n",
    "s(l)"
   ]
  },
  {
   "cell_type": "code",
   "execution_count": 4,
   "id": "2d05edb3",
   "metadata": {},
   "outputs": [
    {
     "name": "stdout",
     "output_type": "stream",
     "text": [
      "Alice\n",
      "85\n"
     ]
    }
   ],
   "source": [
    "b={\"name\": \"Alice\", \"score\": 85}\n",
    "\n",
    "for k,v in b.items():\n",
    "    print(v)"
   ]
  },
  {
   "cell_type": "code",
   "execution_count": 2,
   "id": "67a4c52f",
   "metadata": {},
   "outputs": [
    {
     "name": "stdout",
     "output_type": "stream",
     "text": [
      "False\n"
     ]
    }
   ],
   "source": [
    "class Solution:\n",
    "    def isPalindrome(self, x: int) -> bool:\n",
    "        t=(str(x))\n",
    "        s= ''\n",
    "        if x>0 :\n",
    "            for i in range(0,len(str(x))):\n",
    "             s= t[i]+ s\n",
    "\n",
    "            if x == int(s):    \n",
    "                return True\n",
    "            else:    \n",
    "                return False\n",
    "        else:\n",
    "            return False\n",
    "\n",
    "    \n",
    "pal=Solution() \n",
    "print(pal.isPalindrome(124))       "
   ]
  },
  {
   "cell_type": "code",
   "execution_count": 39,
   "id": "d342e5bc",
   "metadata": {},
   "outputs": [
    {
     "name": "stdout",
     "output_type": "stream",
     "text": [
      "5\n"
     ]
    }
   ],
   "source": [
    "l=456\n",
    "\n",
    "k=str(l)\n",
    "\n",
    "print(k[1])"
   ]
  },
  {
   "cell_type": "code",
   "execution_count": 60,
   "id": "b67aaaa2",
   "metadata": {},
   "outputs": [
    {
     "name": "stdout",
     "output_type": "stream",
     "text": [
      "flo00\n"
     ]
    }
   ],
   "source": [
    "Inputs = [\"flo00wer\",\"flo00w\",\"flo00ight\"]\n",
    "\n",
    "ordered=sorted(Inputs,key=len)\n",
    "\n",
    "common_prefix=ordered[0]\n",
    "\n",
    "for i in range (1,len(ordered)):\n",
    "     \n",
    "     store=i\n",
    "     if len(ordered[i]) >len(common_prefix):\n",
    "         \n",
    "        truncated=ordered[i][0:len(common_prefix)]\n",
    "        while  truncated !=common_prefix:\n",
    "            common_prefix=common_prefix[:-1]\n",
    "            truncated=ordered[i][0:len(common_prefix)]\n",
    "        \n",
    "print(common_prefix)   \n",
    "            \n",
    "         \n",
    "         \n",
    "         \n"
   ]
  },
  {
   "cell_type": "code",
   "execution_count": 3,
   "id": "ebec051d",
   "metadata": {},
   "outputs": [
    {
     "name": "stdout",
     "output_type": "stream",
     "text": [
      "]\n",
      "}\n",
      ")\n"
     ]
    }
   ],
   "source": [
    "s='aghgg'\n",
    "\n",
    "a=s[:-1]\n",
    "f=\"({[]})\"\n",
    "mapping = {')': '(', '}': '{', ']': '['}\n",
    "\n",
    "for i in f:\n",
    "    if i in mapping:\n",
    "        print(i)"
   ]
  },
  {
   "cell_type": "code",
   "execution_count": null,
   "id": "85b046fa",
   "metadata": {},
   "outputs": [],
   "source": [
    "def isValid(s: str) -> bool:\n",
    "    stack = []\n",
    "    # Mapping of closing brackets to their corresponding opening brackets\n",
    "    mapping = {')': '(', '}': '{', ']': '['}\n",
    "\n",
    "    for ch in s:\n",
    "        if ch in mapping.values():  # If it's an opening bracket\n",
    "            stack.append(ch)\n",
    "        elif ch in mapping:  # If it's a closing bracket\n",
    "            if not stack or stack[-1] != mapping[ch]:\n",
    "                return False  # Mismatch or nothing to match\n",
    "            stack.pop()\n",
    "        else:\n",
    "            return False  # Invalid character (not a bracket)\n",
    "\n",
    "    return not stack  # If stack is empty, it's valid\n",
    "\n",
    "# Test cases\n",
    "print(isValid(\"({[]})\"))     # True\n",
    "print(isValid(\"([)]\"))       # False\n",
    "print(isValid(\"((()))\"))     # True\n",
    "print(isValid(\"({[})\"))      # False\n",
    "print(isValid(\"]\"))          # False\n",
    "print(isValid(\"\"))           # True (empty string is valid)\n"
   ]
  },
  {
   "cell_type": "code",
   "execution_count": null,
   "id": "52ec54cd",
   "metadata": {},
   "outputs": [
    {
     "name": "stdout",
     "output_type": "stream",
     "text": [
      "Counter({'e': 3, 't': 1, 'c': 1, 'o': 1, 'd': 1, 'l': 1})\n",
      "t\n",
      "c\n",
      "o\n",
      "d\n",
      "l\n",
      "None\n"
     ]
    }
   ],
   "source": [
    "\n",
    "from collections import Counter\n",
    "\n",
    "s='eetcodel'\n",
    "\n",
    "counter=Counter(s)\n",
    "\n",
    "print(counter)\n",
    "\n",
    "# # Loop through string to find the first non-repeating character\n",
    "# for ch in s:\n",
    "#     if count[ch] == 1:\n",
    "#         return ch\n",
    "# return None\n",
    "\n",
    "def uniqueletter(s):\n",
    "    for i in range(len(s)):\n",
    "        is_unique = True\n",
    "        for j in range(len(s)):\n",
    "            if i != j and s[i] == s[j]:\n",
    "                is_unique = False\n",
    "                break\n",
    "        if is_unique:\n",
    "            return s[i]\n",
    "    return None\n",
    "\n",
    "            \n",
    "\n",
    "uniqueletter(s)"
   ]
  },
  {
   "cell_type": "code",
   "execution_count": 14,
   "id": "bf8ff026",
   "metadata": {},
   "outputs": [
    {
     "name": "stdout",
     "output_type": "stream",
     "text": [
      "dict_keys(['l', 'i', 's', 't', 'e', 'n'])\n"
     ]
    }
   ],
   "source": [
    "l='listen'\n",
    "from collections import Counter\n",
    "print(Counter(l).keys())"
   ]
  },
  {
   "cell_type": "code",
   "execution_count": 7,
   "id": "6701cc46",
   "metadata": {},
   "outputs": [
    {
     "name": "stdout",
     "output_type": "stream",
     "text": [
      "Checking key: l, value: 1\n",
      "Match found\n",
      "Checking key: i, value: 1\n",
      "Match found\n",
      "Checking key: s, value: 1\n",
      "Match found\n",
      "Checking key: t, value: 1\n",
      "Match found\n",
      "Checking key: e, value: 1\n",
      "Match found\n",
      "Checking key: n, value: 1\n",
      "Match found\n"
     ]
    },
    {
     "data": {
      "text/plain": [
       "True"
      ]
     },
     "execution_count": 7,
     "metadata": {},
     "output_type": "execute_result"
    }
   ],
   "source": [
    "def is_anagram(s1, s2):\n",
    "    if len(s1) != len(s2):\n",
    "        return False\n",
    "    return sorted(s1) == sorted(s2)\n",
    "\n",
    "# # Test\n",
    "# print(is_anagram(\"listen\", \"silent\"))  # True\n",
    "# print(is_anagram(\"listn\", \"silent\"))   # False\n",
    "\n",
    "s='listen'\n",
    "l='silent'\n",
    "from collections import Counter\n",
    "\n",
    "count_s=Counter(s)\n",
    "\n",
    "count_l=Counter(l)\n",
    "\n",
    "\n",
    "\n",
    "\n",
    "def anag(count_s, count_l):\n",
    "    if len(count_s) != len(count_l):\n",
    "        return False\n",
    "    else:\n",
    "        for key, value in count_s.items():\n",
    "            print(f\"Checking key: {key}, value: {value}\")\n",
    "            if key in count_l:\n",
    "                if count_l[key] == value:\n",
    "                    print(\"Match found\")\n",
    "                else:\n",
    "                    print(\"Value mismatch\")\n",
    "                    return False\n",
    "            else:\n",
    "                print(\"Key not found in count_l\")\n",
    "                return False\n",
    "        return True\n",
    "anag(count_s,count_l)"
   ]
  },
  {
   "cell_type": "code",
   "execution_count": 76,
   "id": "0c752ca1",
   "metadata": {},
   "outputs": [
    {
     "data": {
      "text/plain": [
       "[1, 3, 12, 0, 0]"
      ]
     },
     "execution_count": 76,
     "metadata": {},
     "output_type": "execute_result"
    }
   ],
   "source": [
    "l=[0, 1, 0, 3, 12]\n",
    "s=l.copy()\n",
    "def move_zero(l=l):\n",
    "    zeros=[]\n",
    "    for i in l:\n",
    "        if i==0:\n",
    "            zeros.append(i)\n",
    "            s.remove(i)\n",
    "    return s +zeros\n",
    "\n",
    "move_zero()"
   ]
  },
  {
   "cell_type": "code",
   "execution_count": 81,
   "id": "32ccc986",
   "metadata": {},
   "outputs": [
    {
     "name": "stdout",
     "output_type": "stream",
     "text": [
      "2\n"
     ]
    }
   ],
   "source": [
    "nums = [3, 0, 1]\n",
    "sorted_num=sorted(nums)\n",
    "for i in range(0,len(sorted_num)):\n",
    "    if i not in sorted_num:\n",
    "        \n",
    "        print(i)\n",
    "        "
   ]
  },
  {
   "cell_type": "code",
   "execution_count": 96,
   "id": "bb0f8907",
   "metadata": {},
   "outputs": [
    {
     "name": "stdout",
     "output_type": "stream",
     "text": [
      "[2]\n"
     ]
    }
   ],
   "source": [
    "l=[1, 3, 4, 2, 2]\n",
    "\n",
    "d={}\n",
    "\n",
    "for i in l:\n",
    "    \n",
    "    if i not in d.keys():\n",
    "        d[i]=1\n",
    "    else:\n",
    "        d[i]+=1\n",
    "        \n",
    "print([key  for key, values in d.items() if values>1])\n",
    "\n",
    "\n",
    "    "
   ]
  },
  {
   "cell_type": "code",
   "execution_count": 116,
   "id": "3b04ddd3",
   "metadata": {},
   "outputs": [
    {
     "name": "stdout",
     "output_type": "stream",
     "text": [
      "defaultdict(<class 'list'>, {'aet': ['eat', 'tea', 'ate'], 'ant': ['tan', 'nat'], 'abt': ['bat']})\n"
     ]
    }
   ],
   "source": [
    "angram=[\"eat\", \"tea\", \"tan\", \"ate\", \"nat\", \"bat\"]\n",
    "from collections import defaultdict\n",
    "d=defaultdict(list)\n",
    "\n",
    "for i in angram:\n",
    "   key= \"\".join(sorted(i))\n",
    "   d[key].append(i)\n",
    "print(d)\n",
    "\n",
    "\n"
   ]
  },
  {
   "cell_type": "code",
   "execution_count": 8,
   "id": "1468eea7",
   "metadata": {},
   "outputs": [
    {
     "name": "stdout",
     "output_type": "stream",
     "text": [
      "ll dict_keys(['l', 'i', 's', 't', 'e', 'n'])\n",
      "True\n"
     ]
    }
   ],
   "source": [
    "\n",
    "def anag(count_s, count_l):\n",
    "    print(\"ll\",count_s.keys())\n",
    "    if count_s.keys() != count_l.keys():\n",
    "         return False\n",
    "    for key in count_s:\n",
    "        if count_s[key] != count_l[key]:\n",
    "            return False\n",
    "    return True\n",
    "\n",
    "# Test\n",
    "s = 'listen'\n",
    "l = 'silent'\n",
    "\n",
    "print(anag(Counter(s), Counter(l))) # True\n"
   ]
  },
  {
   "cell_type": "code",
   "execution_count": 17,
   "id": "a5f18342",
   "metadata": {},
   "outputs": [
    {
     "name": "stdout",
     "output_type": "stream",
     "text": [
      "defaultdict(<class 'int'>, {1: 2, 2: 3, 3: 1})\n",
      "[(2, 3), (1, 2), (3, 1)]\n",
      "(2, 3)\n"
     ]
    }
   ],
   "source": [
    "Input=[1,1,2,2,2,3]\n",
    "from collections import defaultdict\n",
    "\n",
    "number=defaultdict(int)\n",
    "for i in Input:\n",
    "    number[i]+=1\n",
    "print(number)\n",
    "sorted_items = sorted(number.items(), key=lambda x: x[1], reverse=True)\n",
    "print(sorted_items)\n",
    "print(sorted_items[0])\n"
   ]
  },
  {
   "cell_type": "code",
   "execution_count": 130,
   "id": "3587fdac",
   "metadata": {},
   "outputs": [
    {
     "name": "stdout",
     "output_type": "stream",
     "text": [
      "[(2, 'two'), (3, 'three'), (1, 'one')]\n"
     ]
    }
   ],
   "source": [
    "d = {3: 'three', 1: 'one', 2: 'two'}\n",
    "\n",
    "print(sorted(d.items(),key=lambda x : x[1],reverse=True)) "
   ]
  },
  {
   "cell_type": "code",
   "execution_count": null,
   "id": "a554ee61",
   "metadata": {},
   "outputs": [
    {
     "name": "stdout",
     "output_type": "stream",
     "text": [
      "0\n",
      "1\n"
     ]
    }
   ],
   "source": [
    "nums = [2, 7, 11, 15]\n",
    "target = 9\n",
    "d = {}  # stores value: index\n",
    "\n",
    "for index, value in enumerate(nums):\n",
    "    complement = target - value\n",
    "    if complement in d:\n",
    "        print([d[complement], index])  # FOUND the two indices\n",
    "        break\n",
    "    d[value] = index  # store current value with its index\n",
    "\n",
    "\n",
    "        \n",
    "        \n",
    "        \n",
    "        \n",
    "        \n",
    "        "
   ]
  },
  {
   "cell_type": "code",
   "execution_count": 149,
   "id": "df02c983",
   "metadata": {},
   "outputs": [
    {
     "name": "stdout",
     "output_type": "stream",
     "text": [
      "d\n",
      "a\n",
      "True\n"
     ]
    }
   ],
   "source": [
    "\n",
    "#Check if Two Strings Have Common Characters\n",
    "input1=\"abc\"\n",
    "input2=\"daef\"\n",
    "\n",
    "unique=set(input1)\n",
    "flag=False\n",
    "for i in input2:\n",
    "    print(i)\n",
    "    \n",
    "    if i in unique:\n",
    "        flag=True\n",
    "        break\n",
    "    else:\n",
    "        flag=False\n",
    "print(flag)\n",
    "        "
   ]
  },
  {
   "cell_type": "code",
   "execution_count": 14,
   "id": "c0024b86",
   "metadata": {},
   "outputs": [
    {
     "name": "stdout",
     "output_type": "stream",
     "text": [
      "{2, 3}\n",
      "{1, 2, 3, 4}\n"
     ]
    }
   ],
   "source": [
    "#Find the Intersection of Two Lists\n",
    "\n",
    "ip1=set([1, 2, 3])\n",
    "ip2=set([2, 3, 4] )\n",
    "\n",
    "s=set()\n",
    "for i in ip1:\n",
    "    if i in ip2:\n",
    "        s.add(i)\n",
    "print(s)\n",
    "\n",
    "print(ip1 |ip2)"
   ]
  },
  {
   "cell_type": "code",
   "execution_count": null,
   "id": "eeb9d27c",
   "metadata": {},
   "outputs": [
    {
     "name": "stdout",
     "output_type": "stream",
     "text": [
      "8 1 2 7\n",
      "maxsum 8 7\n",
      "result 8\n",
      "7 3 1 9\n",
      "maxsum 8 9\n",
      "result 9\n",
      "9 2 5 6\n",
      "maxsum 9 6\n",
      "result 9\n"
     ]
    },
    {
     "data": {
      "text/plain": [
       "9"
      ]
     },
     "execution_count": 164,
     "metadata": {},
     "output_type": "execute_result"
    }
   ],
   "source": [
    "arr = [2, 1, 5, 1, 3, 2]\n",
    "k = 3\n",
    "\n",
    "def maximum_subarry(array,subarraysize):\n",
    "    window=sum(arr[:subarraysize])\n",
    "    max_sum=window\n",
    "    \n",
    "    for i in range(k,len(arr)):\n",
    "        print(window,arr[i],arr[i-k],window+arr[i]-arr[i-k])\n",
    "        window=window+arr[i]-arr[i-k]\n",
    "        \n",
    "        max_sum= max(max_sum,window)\n",
    "        \n",
    "    return max_sum\n",
    "\n",
    "maximum_subarry(arr,k)"
   ]
  },
  {
   "cell_type": "code",
   "execution_count": 19,
   "id": "bed21e93",
   "metadata": {},
   "outputs": [
    {
     "data": {
      "text/plain": [
       "'bcdeaw'"
      ]
     },
     "execution_count": 19,
     "metadata": {},
     "output_type": "execute_result"
    }
   ],
   "source": [
    "s = \"abcdeaw\"\n",
    "\n",
    "def long_str_len(s):\n",
    "    start=0\n",
    "    max_len=0\n",
    "    longest_start=0\n",
    "    d=set()\n",
    "    for end in range(len(s)):\n",
    "        while s[end] in d:\n",
    "            d.remove(s[start])\n",
    "            start +=1\n",
    "        d.add(s[end])\n",
    "        context_winows_len= end -start +1\n",
    "        if context_winows_len>max_len:\n",
    "            max_len=context_winows_len\n",
    "            longest_start=start\n",
    "    long_str=s[longest_start:longest_start+max_len]        \n",
    "    return long_str\n",
    "\n",
    "long_str_len(s)"
   ]
  },
  {
   "cell_type": "code",
   "execution_count": null,
   "id": "18b284fb",
   "metadata": {},
   "outputs": [
    {
     "name": "stdout",
     "output_type": "stream",
     "text": [
      "4\n"
     ]
    }
   ],
   "source": [
    "nums = [2,3,1,2,4,3]\n",
    "target = 7\n",
    "sum_of_value=[]\n",
    "length=[]\n",
    "\n",
    "for i in range(len(nums)):\n",
    "    \n",
    "    if not ((nums[i]>= target) or (sum(sum_of_value) >=target)):\n",
    "        sum_of_value.append(nums[i])\n",
    "    \n",
    "    else:\n",
    "        \n",
    "        length.append(len(sum_of_value))\n",
    "        sum_of_value.clear()\n",
    "print(min(length))\n"
   ]
  },
  {
   "cell_type": "code",
   "execution_count": null,
   "id": "a4ec058b",
   "metadata": {},
   "outputs": [
    {
     "name": "stdout",
     "output_type": "stream",
     "text": [
      "min 4\n",
      "min 4\n",
      "min 3\n",
      "min 3\n",
      "min 2\n",
      "2\n"
     ]
    }
   ],
   "source": [
    "#Problem: Smallest Subarray With Sum ≥ Target\n",
    "    nums = [2,3,1,2,4,3]\n",
    "    target = 7\n",
    "\n",
    "    start=0\n",
    "    end1=0\n",
    "    min_len= float('inf')\n",
    "    window_sum=0\n",
    "\n",
    "    for end in range(len(nums)):\n",
    "        window_sum +=nums[end]\n",
    "        \n",
    "        while window_sum>=target:\n",
    "            min_len=min(min_len,end-start+1)\n",
    "            print('min',min_len)\n",
    "            window_sum-=nums[start]\n",
    "            start+=1\n",
    "    if min_len is float(\"inf\"):\n",
    "        print(\"zero\")\n",
    "    else:\n",
    "        print(min_len)\n",
    "            \n",
    "     "
   ]
  },
  {
   "cell_type": "code",
   "execution_count": 21,
   "id": "cb4cdbbf",
   "metadata": {},
   "outputs": [
    {
     "name": "stdout",
     "output_type": "stream",
     "text": [
      "3w2p1h2q1w\n"
     ]
    }
   ],
   "source": [
    "ip= \"wwwpphqqw\"\n",
    "# o/p: 3w2p1h2q1w\n",
    "\n",
    "s=\"\"\n",
    "c=0\n",
    "l=[]\n",
    "\n",
    "for i in ip:\n",
    "\n",
    "    if c==0:\n",
    "        c+=1\n",
    "        s=i\n",
    "\n",
    "    elif s==i:\n",
    "\n",
    "        c+=1\n",
    "    elif s!=i:\n",
    "        l.append(str(c))\n",
    "        l.append(s)\n",
    "        s=i\n",
    "        c=1\n",
    "        \n",
    "final=\"\".join(l)\n",
    "print(final + str(c) +s)\n",
    "    "
   ]
  },
  {
   "cell_type": "code",
   "execution_count": 22,
   "id": "42989565",
   "metadata": {},
   "outputs": [
    {
     "name": "stdout",
     "output_type": "stream",
     "text": [
      "3w2p1h2q1w\n"
     ]
    }
   ],
   "source": [
    "ip = \"wwwpphqqw\"\n",
    "result = \"\"\n",
    "count = 1\n",
    "\n",
    "for i in range(1, len(ip)):\n",
    "    if ip[i] == ip[i - 1]:\n",
    "        count += 1\n",
    "    else:\n",
    "        result += str(count) + ip[i - 1]  # Append count and char\n",
    "        count = 1  # Reset count for new char\n",
    "\n",
    "# Append last group\n",
    "result += str(count) + ip[-1]\n",
    "\n",
    "print(result)  # Output: 3w2p1h2q1w\n"
   ]
  },
  {
   "cell_type": "code",
   "execution_count": 23,
   "id": "40e6531c",
   "metadata": {},
   "outputs": [
    {
     "name": "stdout",
     "output_type": "stream",
     "text": [
      "q\n"
     ]
    }
   ],
   "source": [
    "ip = \"wwwpphqqo\"\n",
    "print(ip[-2])"
   ]
  },
  {
   "cell_type": "code",
   "execution_count": 28,
   "id": "83eafdb6",
   "metadata": {},
   "outputs": [
    {
     "name": "stdout",
     "output_type": "stream",
     "text": [
      "hi\n"
     ]
    },
    {
     "data": {
      "text/plain": [
       "3.004347324371338"
      ]
     },
     "execution_count": 28,
     "metadata": {},
     "output_type": "execute_result"
    }
   ],
   "source": [
    "import time\n",
    "def time_cal(func):\n",
    "    def wrapper(*args,**kargs):\n",
    "        start = time.time()\n",
    "        func(*args, **kargs)\n",
    "        end =time.time()\n",
    "        time_taken=end-start\n",
    "        return time_taken\n",
    "    return wrapper\n",
    "\n",
    "@time_cal\n",
    "def calling_api():\n",
    "    print(\"hi\")\n",
    "    time.sleep(3)\n",
    "    \n",
    "\n",
    "\n",
    "\n",
    "calling_api()\n"
   ]
  },
  {
   "cell_type": "code",
   "execution_count": 42,
   "id": "92a743a9",
   "metadata": {},
   "outputs": [
    {
     "name": "stdout",
     "output_type": "stream",
     "text": [
      "before Testing For is this world hello \n"
     ]
    },
    {
     "data": {
      "text/plain": [
       "'testing for is this world hello '"
      ]
     },
     "execution_count": 42,
     "metadata": {},
     "output_type": "execute_result"
    }
   ],
   "source": [
    "l=\"hello world this is For Testing\"\n",
    "\n",
    "splited=l.split()\n",
    "\n",
    "def mydecorator(func):\n",
    "    def wrapper(*args,**kwargs):\n",
    "        reverse_sentence=func(*args,**kwargs)\n",
    "        print(\"before\",reverse_sentence)\n",
    "        lower_converted=reverse_sentence.lower()\n",
    "        return lower_converted\n",
    "    return wrapper\n",
    "\n",
    "@mydecorator\n",
    "def reverse(sentence):\n",
    "    s=\"\"\n",
    "    for i in sentence:\n",
    "\n",
    "        s = i +\" \" + s \n",
    "    return s\n",
    "\n",
    "reverse(splited)   "
   ]
  },
  {
   "cell_type": "code",
   "execution_count": 48,
   "id": "be4567be",
   "metadata": {},
   "outputs": [
    {
     "name": "stdout",
     "output_type": "stream",
     "text": [
      "7\n"
     ]
    },
    {
     "data": {
      "text/plain": [
       "49"
      ]
     },
     "execution_count": 48,
     "metadata": {},
     "output_type": "execute_result"
    }
   ],
   "source": [
    "def square(func):\n",
    "    def wrapper(*args,**kwargs):\n",
    "        result=func(*args,**kwargs)\n",
    "        print(result)\n",
    "        \n",
    "        sq=result*result\n",
    "        return sq\n",
    "    return wrapper\n",
    "        \n",
    "        \n",
    "\n",
    "\n",
    "\n",
    "@square\n",
    "def add (a,b):\n",
    "    return a+b\n",
    "\n",
    "\n",
    "add(2,5)\n",
    "\n"
   ]
  },
  {
   "cell_type": "code",
   "execution_count": null,
   "id": "1f0c83eb",
   "metadata": {},
   "outputs": [],
   "source": [
    "arr = [1,2,3,4,5]"
   ]
  },
  {
   "cell_type": "code",
   "execution_count": null,
   "id": "f76a3dfb",
   "metadata": {},
   "outputs": [],
   "source": []
  }
 ],
 "metadata": {
  "kernelspec": {
   "display_name": "Python 3",
   "language": "python",
   "name": "python3"
  },
  "language_info": {
   "codemirror_mode": {
    "name": "ipython",
    "version": 3
   },
   "file_extension": ".py",
   "mimetype": "text/x-python",
   "name": "python",
   "nbconvert_exporter": "python",
   "pygments_lexer": "ipython3",
   "version": "3.10.0"
  }
 },
 "nbformat": 4,
 "nbformat_minor": 5
}
